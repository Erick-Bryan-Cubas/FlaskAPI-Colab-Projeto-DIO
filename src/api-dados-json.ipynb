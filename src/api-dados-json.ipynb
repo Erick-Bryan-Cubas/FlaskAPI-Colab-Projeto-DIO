{
 "cells": [
  {
   "cell_type": "code",
   "execution_count": 2,
   "metadata": {},
   "outputs": [
    {
     "name": "stdout",
     "output_type": "stream",
     "text": [
      "Requirement already satisfied: flask-ngrok in c:\\users\\erick bryan\\documents\\github\\flaskapi-colab\\venv\\lib\\site-packages (0.0.25)\n",
      "Requirement already satisfied: Flask>=0.8 in c:\\users\\erick bryan\\documents\\github\\flaskapi-colab\\venv\\lib\\site-packages (from flask-ngrok) (3.0.3)\n",
      "Requirement already satisfied: requests in c:\\users\\erick bryan\\documents\\github\\flaskapi-colab\\venv\\lib\\site-packages (from flask-ngrok) (2.31.0)\n",
      "Requirement already satisfied: Werkzeug>=3.0.0 in c:\\users\\erick bryan\\documents\\github\\flaskapi-colab\\venv\\lib\\site-packages (from Flask>=0.8->flask-ngrok) (3.0.2)\n",
      "Requirement already satisfied: Jinja2>=3.1.2 in c:\\users\\erick bryan\\documents\\github\\flaskapi-colab\\venv\\lib\\site-packages (from Flask>=0.8->flask-ngrok) (3.1.3)\n",
      "Requirement already satisfied: itsdangerous>=2.1.2 in c:\\users\\erick bryan\\documents\\github\\flaskapi-colab\\venv\\lib\\site-packages (from Flask>=0.8->flask-ngrok) (2.2.0)\n",
      "Requirement already satisfied: click>=8.1.3 in c:\\users\\erick bryan\\documents\\github\\flaskapi-colab\\venv\\lib\\site-packages (from Flask>=0.8->flask-ngrok) (8.1.7)\n",
      "Requirement already satisfied: blinker>=1.6.2 in c:\\users\\erick bryan\\documents\\github\\flaskapi-colab\\venv\\lib\\site-packages (from Flask>=0.8->flask-ngrok) (1.8.1)\n",
      "Requirement already satisfied: charset-normalizer<4,>=2 in c:\\users\\erick bryan\\documents\\github\\flaskapi-colab\\venv\\lib\\site-packages (from requests->flask-ngrok) (3.3.2)\n",
      "Requirement already satisfied: idna<4,>=2.5 in c:\\users\\erick bryan\\documents\\github\\flaskapi-colab\\venv\\lib\\site-packages (from requests->flask-ngrok) (3.7)\n",
      "Requirement already satisfied: urllib3<3,>=1.21.1 in c:\\users\\erick bryan\\documents\\github\\flaskapi-colab\\venv\\lib\\site-packages (from requests->flask-ngrok) (2.2.1)\n",
      "Requirement already satisfied: certifi>=2017.4.17 in c:\\users\\erick bryan\\documents\\github\\flaskapi-colab\\venv\\lib\\site-packages (from requests->flask-ngrok) (2024.2.2)\n",
      "Requirement already satisfied: colorama in c:\\users\\erick bryan\\documents\\github\\flaskapi-colab\\venv\\lib\\site-packages (from click>=8.1.3->Flask>=0.8->flask-ngrok) (0.4.6)\n",
      "Requirement already satisfied: MarkupSafe>=2.0 in c:\\users\\erick bryan\\documents\\github\\flaskapi-colab\\venv\\lib\\site-packages (from Jinja2>=3.1.2->Flask>=0.8->flask-ngrok) (2.1.5)\n",
      "Requirement already satisfied: flask in c:\\users\\erick bryan\\documents\\github\\flaskapi-colab\\venv\\lib\\site-packages (3.0.3)\n",
      "Requirement already satisfied: werkzeug in c:\\users\\erick bryan\\documents\\github\\flaskapi-colab\\venv\\lib\\site-packages (3.0.2)\n",
      "Requirement already satisfied: Jinja2>=3.1.2 in c:\\users\\erick bryan\\documents\\github\\flaskapi-colab\\venv\\lib\\site-packages (from flask) (3.1.3)\n",
      "Requirement already satisfied: itsdangerous>=2.1.2 in c:\\users\\erick bryan\\documents\\github\\flaskapi-colab\\venv\\lib\\site-packages (from flask) (2.2.0)\n",
      "Requirement already satisfied: click>=8.1.3 in c:\\users\\erick bryan\\documents\\github\\flaskapi-colab\\venv\\lib\\site-packages (from flask) (8.1.7)\n",
      "Requirement already satisfied: blinker>=1.6.2 in c:\\users\\erick bryan\\documents\\github\\flaskapi-colab\\venv\\lib\\site-packages (from flask) (1.8.1)\n",
      "Requirement already satisfied: MarkupSafe>=2.1.1 in c:\\users\\erick bryan\\documents\\github\\flaskapi-colab\\venv\\lib\\site-packages (from werkzeug) (2.1.5)\n",
      "Requirement already satisfied: colorama in c:\\users\\erick bryan\\documents\\github\\flaskapi-colab\\venv\\lib\\site-packages (from click>=8.1.3->flask) (0.4.6)\n",
      "Name: Flask\n",
      "Version: 3.0.3\n",
      "Summary: A simple framework for building complex web applications.\n",
      "Home-page: \n",
      "Author: \n",
      "Author-email: \n",
      "License: \n",
      "Location: C:\\Users\\Erick Bryan\\Documents\\GitHub\\FlaskAPI-Colab\\venv\\Lib\\site-packages\n",
      "Requires: blinker, click, itsdangerous, Jinja2, Werkzeug\n",
      "Required-by: flask-ngrok\n",
      "---\n",
      "Name: Werkzeug\n",
      "Version: 3.0.2\n",
      "Summary: The comprehensive WSGI web application library.\n",
      "Home-page: \n",
      "Author: \n",
      "Author-email: \n",
      "License: \n",
      "Location: C:\\Users\\Erick Bryan\\Documents\\GitHub\\FlaskAPI-Colab\\venv\\Lib\\site-packages\n",
      "Requires: MarkupSafe\n",
      "Required-by: Flask\n"
     ]
    }
   ],
   "source": [
    "!pip install flask-ngrok\n",
    "!pip install --upgrade flask werkzeug\n",
    "!pip show flask werkzeug"
   ]
  },
  {
   "cell_type": "code",
   "execution_count": 5,
   "metadata": {},
   "outputs": [
    {
     "name": "stdout",
     "output_type": "stream",
     "text": [
      " * Serving Flask app '__main__'\n",
      " * Debug mode: off\n"
     ]
    },
    {
     "name": "stderr",
     "output_type": "stream",
     "text": [
      "WARNING: This is a development server. Do not use it in a production deployment. Use a production WSGI server instead.\n",
      " * Running on http://127.0.0.1:5000\n",
      "Press CTRL+C to quit\n"
     ]
    },
    {
     "ename": "",
     "evalue": "",
     "output_type": "error",
     "traceback": [
      "\u001b[1;31mO Kernel deu pane ao executar o código na célula atual ou em uma célula anterior. \n",
      "\u001b[1;31mAnalise o código nas células para identificar uma possível causa da pane. \n",
      "\u001b[1;31mClique <a href='https://aka.ms/vscodeJupyterKernelCrash'>aqui</a> para obter mais informações. \n",
      "\u001b[1;31mConsulte Jupyter <a href='command:jupyter.viewOutput'>log</a> para obter mais detalhes."
     ]
    }
   ],
   "source": [
    "from flask import Flask, jsonify\n",
    "from flask_ngrok import run_with_ngrok\n",
    "from urllib.parse import quote as url_quote\n",
    "\n",
    "# Dados simulados baseados na planilha fornecida\n",
    "dados = [\n",
    "    {\"Number\": 1, \"Name\": \"Mahesh\", \"Age\": 25, \"City\": \"Bangalore\", \"Country\": \"India\"},\n",
    "    {\"Number\": 2, \"Name\": \"Alex\", \"Age\": 26, \"City\": \"London\", \"Country\": \"UK\"},\n",
    "    {\"Number\": 3, \"Name\": \"David\", \"Age\": 27, \"City\": \"San Francisco\", \"Country\": \"USA\"},\n",
    "    {\"Number\": 4, \"Name\": \"John\", \"Age\": 28, \"City\": \"Toronto\", \"Country\": \"Canada\"},\n",
    "    {\"Number\": 5, \"Name\": \"Chris\", \"Age\": 29, \"City\": \"Paris\", \"Country\": \"France\"}\n",
    "]\n",
    "\n",
    "app = Flask(__name__)\n",
    "run_with_ngrok(app)   # Inicia o ngrok quando o app é executado\n",
    "\n",
    "@app.route(\"/index\", methods=['GET'])\n",
    "def home():\n",
    "    return jsonify(dados)\n",
    "\n",
    "if __name__ == \"__main__\":\n",
    "    app.run()"
   ]
  }
 ],
 "metadata": {
  "kernelspec": {
   "display_name": "Python 3",
   "language": "python",
   "name": "python3"
  },
  "language_info": {
   "codemirror_mode": {
    "name": "ipython",
    "version": 3
   },
   "file_extension": ".py",
   "mimetype": "text/x-python",
   "name": "python",
   "nbconvert_exporter": "python",
   "pygments_lexer": "ipython3",
   "version": "3.12.3"
  }
 },
 "nbformat": 4,
 "nbformat_minor": 2
}
